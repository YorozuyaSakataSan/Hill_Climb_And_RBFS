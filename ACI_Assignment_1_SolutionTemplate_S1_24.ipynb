{
 "cells": [
  {
   "cell_type": "markdown",
   "metadata": {
    "id": "MzZ4dJQYF7sH"
   },
   "source": [
    "# Artificial and Computational Intelligence Assignment 1"
   ]
  },
  {
   "cell_type": "markdown",
   "metadata": {
    "id": "Fxb1aE9zF7sK"
   },
   "source": [
    "## Problem solving by Uninformed & Informed Search"
   ]
  },
  {
   "cell_type": "markdown",
   "metadata": {
    "id": "h35jIBbCF7sK"
   },
   "source": [
    "List all the team members BITS ID ,Name along with % of contribution in this assignment: sample Provided below:\n",
    "1. 2024AA05296, Balsure Aniket K, 20%\n",
    "2. 2024AA05297, Samuel Joseph P\n",
    "3. 2024AA05298, Shailesh Narayan Wazalwar, 20%\n",
    "4. 2024AA05299, Ankit, 20%\n",
    "5. 2024AA05300, Dhoble Trupti, 20%"
   ]
  },
  {
   "attachments": {
    "70ca0f39-6c4e-4ac1-a8d9-9ee8db844bc4.png": {
     "image/png": "[encoded data removed]"
    }
   },
   "cell_type": "markdown",
   "metadata": {
    "id": "Vt74xbLjECic"
   },
   "source": [
    "![image.png](attachment:70ca0f39-6c4e-4ac1-a8d9-9ee8db844bc4.png)"
   ]
  },
  {
   "cell_type": "markdown",
   "metadata": {
    "id": "pt5ygv_zF7sL"
   },
   "source": [
    "Things to follow\n",
    "1.\tUse appropriate data structures to represent the graph and the path using python libraries\n",
    "2.\tProvide proper documentation\n",
    "3.\tFind the path and print it"
   ]
  },
  {
   "cell_type": "markdown",
   "metadata": {
    "id": "wZfop5ElF7sL"
   },
   "source": [
    "Coding begins here"
   ]
  },
  {
   "cell_type": "markdown",
   "metadata": {
    "id": "IL0QDMy3F7sL"
   },
   "source": [
    "### 1.\tDefine the environment in the following block"
   ]
  },
  {
   "cell_type": "markdown",
   "metadata": {
    "id": "RYwJPNLIF7sM"
   },
   "source": [
    "List the PEAS decription of the problem here in this markdown block\n",
    "\n",
    "**PEAS Framework for the Problem**\n",
    "The PEAS (Performance measure, Environment, Actuators, Sensors) model is used to define the agent and its interaction with the problem environment. Below is the description for this problem:\n",
    "\n",
    "***Performance Measure (P):***\n",
    "The agent must determine the shortest and most cost-effective route while ensuring all cities are visited.\n",
    "The agent should return to the starting city after visiting all locations.\n",
    "The transportation cost should be minimized while ensuring all paths taken are valid.\n",
    "The agent should adapt dynamically to the given starting city and compute an optimal route accordingly.\n",
    "\n",
    "***Environment (E):***\n",
    "The problem space consists of cities connected by roads, forming a graph structure.\n",
    "The roads have different travel costs, impacting the agent’s decisions.\n",
    "The agent operates in a dynamic environment, where it must choose paths based on the given constraints.\n",
    "\n",
    "***Actuators (A):***\n",
    "The agent can navigate from one city to another using defined search algorithms.\n",
    "The agent must decide on the next move based on the transition model and the path cost.\n",
    "\n",
    "***Sensors (S):***\n",
    "The agent can perceive the current location in the city network.\n",
    "It receives user input to determine the starting city.\n",
    "The agent uses path cost data from the adjacency matrix to calculate the optimal route.\n"
   ]
  },
  {
   "cell_type": "markdown",
   "metadata": {
    "id": "XJ3cHp1IF7sM"
   },
   "source": [
    "Design the agent as PSA Agent(Problem Solving Agent)\n",
    "Clear Initial data structures to define the graph and variable declarations is expected\n",
    "IMPORTATANT: Write distinct code block as below"
   ]
  },
  {
   "cell_type": "code",
   "execution_count": 13,
   "metadata": {
    "id": "osp61RsLF7sN"
   },
   "outputs": [],
   "source": [
    "#Code Block : Set Initial State (Must handle dynamic inputs)\n",
    "import numpy as np\n",
    "import time\n",
    "import sys\n",
    "\n",
    "global max_depth_hill_climb"
   ]
  },
  {
   "cell_type": "code",
   "execution_count": 14,
   "metadata": {
    "id": "XODwoWZ0F7sO"
   },
   "outputs": [],
   "source": [
    "#Code Block : Set the matrix for transition & cost (as relevant for the given problem)\n",
    "# Adjacency matrix for the graph (distances between nodes)\n",
    "graph = [\n",
    "    [0, 10, 5, np.inf, np.inf, 17, np.inf, 15],  # Kiev\n",
    "    [10, 0, 7, np.inf, np.inf, np.inf, np.inf, np.inf],  # Kharkiv\n",
    "    [5, 7, 0, 25, np.inf, np.inf, np.inf, np.inf],  # Odessa\n",
    "    [np.inf, np.inf, 25, 0, 11, 4, np.inf, np.inf],  # Dnipro\n",
    "    [np.inf, np.inf, np.inf, 11, 0, 10, np.inf, np.inf],  # Kherson\n",
    "    [17, np.inf, np.inf, 4, 10, 0, 2, 12],  # Lviv\n",
    "    [np.inf, np.inf, np.inf, np.inf, np.inf, 2, 0, np.inf],  # Mariupol\n",
    "    [15, np.inf, np.inf, np.inf, np.inf, 12, np.inf, 0]  # Mikolaive\n",
    "]"
   ]
  },
  {
   "cell_type": "code",
   "execution_count": 15,
   "metadata": {
    "id": "ro24Gaj7F7sO"
   },
   "outputs": [],
   "source": [
    "#Code Block : Write function to design the Transition Model/Successor function. Ideally this would be called while search algorithms are implemented\n",
    "def calculate_distance(graph, path):\n",
    "    \"\"\"Calculate the total distance for a given path.\"\"\"\n",
    "    distance = 0\n",
    "    for i in range(len(path) - 1):\n",
    "        if graph[path[i]][path[i + 1]] == np.inf:\n",
    "            return np.inf  # Return infinity if an invalid path is encountered\n",
    "        distance += graph[path[i]][path[i + 1]]\n",
    "    return distance"
   ]
  },
  {
   "cell_type": "code",
   "execution_count": 16,
   "metadata": {
    "id": "HIVPhrRWF7sO"
   },
   "outputs": [],
   "source": [
    "#Code block : Write fucntion to handle goal test (Must handle dynamic inputs). Ideally this would be called while search algorithms are implemented\n",
    "def all_nodes_visited(visit_count):\n",
    "    \"\"\"Check if all nodes are visited at least once.\"\"\"\n",
    "    return all(count > 0 for count in visit_count)"
   ]
  },
  {
   "cell_type": "markdown",
   "metadata": {
    "id": "Z4QwDeX5F7sO"
   },
   "source": [
    "### 2.\tDefinition of Algorithm 1 (Hill Climbing)"
   ]
  },
  {
   "cell_type": "code",
   "execution_count": 17,
   "metadata": {
    "id": "zD_EPCHWF7sO"
   },
   "outputs": [],
   "source": [
    "#Code Block : Function for algorithm 1 implementation\n",
    "def hill_climb(graph, path, cost, best_cost, visit_count, max_visits=2, depth=0):\n",
    "    \"\"\"Hill Climbing algorithm ensuring all nodes are visited at least once.\"\"\"\n",
    "    \n",
    "    # If all nodes are visited and the path returns to the start, complete the cycle\n",
    "    if all_nodes_visited(visit_count) and path[0] == path[-1]:\n",
    "        return path, cost, depth\n",
    "\n",
    "    best_path = None\n",
    "    max_depth_hill_climb = depth\n",
    "    for neighbor in range(len(graph)):\n",
    "        # Allow revisiting nodes for backtracking but respect max_visits limit\n",
    "        if visit_count[neighbor] < max_visits or (all_nodes_visited(visit_count) and neighbor == path[0]):\n",
    "            new_cost = cost + graph[path[-1]][neighbor]\n",
    "            if new_cost < best_cost:\n",
    "                visit_count[neighbor] += 1\n",
    "                new_path, total_cost, new_depth = hill_climb(graph, path + [neighbor], new_cost, best_cost, visit_count, max_visits, depth + 1)\n",
    "                visit_count[neighbor] -= 1\n",
    "                max_depth_hill_climb = max(max_depth_hill_climb, new_depth)\n",
    "                if best_path is None or total_cost < best_cost:\n",
    "                    best_path, best_cost = new_path, total_cost\n",
    "\n",
    "    return best_path, best_cost, max_depth_hill_climb"
   ]
  },
  {
   "cell_type": "markdown",
   "metadata": {
    "id": "KnbdDl6HF7sO"
   },
   "source": [
    "### 3.\tDefinition of Algorithm 2 (Recursive Best First Search)"
   ]
  },
  {
   "cell_type": "code",
   "execution_count": 18,
   "metadata": {
    "id": "3HYh7-eJF7sP"
   },
   "outputs": [],
   "source": [
    "#Code Block : Function for algorithm 2 implementation\n",
    "def rbfs(graph, path, cost, best_cost, visit_count, max_visits=2, depth=0):\n",
    "    \"\"\"Recursive Best First Search (RBFS) to find the optimal path.\"\"\"\n",
    "    \n",
    "    # If all nodes are visited and the path returns to the start, complete the cycle\n",
    "    if all_nodes_visited(visit_count) and path[0] == path[-1]:\n",
    "        return path, cost, depth\n",
    "\n",
    "    best_path = None\n",
    "    max_depth_rbfs = depth\n",
    "    for neighbor in range(len(graph)):\n",
    "        # Allow revisiting nodes for backtracking but respect max_visits limit\n",
    "        if visit_count[neighbor] < max_visits or (all_nodes_visited(visit_count) and neighbor == path[0]):\n",
    "            new_cost = cost + graph[path[-1]][neighbor]\n",
    "            if new_cost < best_cost:\n",
    "                visit_count[neighbor] += 1\n",
    "                new_path, total_cost, new_depth = rbfs(graph, path + [neighbor], new_cost, best_cost, visit_count, max_visits, depth + 1)\n",
    "                visit_count[neighbor] -= 1\n",
    "                max_depth_rbfs = max(max_depth_rbfs, new_depth)\n",
    "                if best_path is None or total_cost < best_cost:\n",
    "                    best_path, best_cost = new_path, total_cost\n",
    "\n",
    "    return best_path, best_cost, max_depth_rbfs"
   ]
  },
  {
   "cell_type": "markdown",
   "metadata": {
    "id": "LEV2XHccF7sP"
   },
   "source": [
    "### DYNAMIC INPUT"
   ]
  },
  {
   "cell_type": "markdown",
   "metadata": {
    "id": "CylYRo_DF7sP"
   },
   "source": [
    "IMPORTANT : Dynamic Input must be got in this section. Display the possible states to choose from:\n",
    "This is applicable for all the relevent problems as mentioned in the question."
   ]
  },
  {
   "cell_type": "code",
   "execution_count": 19,
   "metadata": {
    "id": "Q5t1Lc-wF7sP"
   },
   "outputs": [
    {
     "name": "stdin",
     "output_type": "stream",
     "text": [
      "Enter the starting node from ['Kiev', 'Kharkiv', 'Odessa', 'Dnipro', 'Kherson', 'Lviv', 'Mariupol', 'Mikolaive']:  Kiev\n"
     ]
    }
   ],
   "source": [
    "#Code Block : Function & call to get inputs (start/end state)\n",
    "# Input starting node\n",
    "nodes = [\"Kiev\", \"Kharkiv\", \"Odessa\", \"Dnipro\", \"Kherson\", \"Lviv\", \"Mariupol\", \"Mikolaive\"]\n",
    "start_node = input(f\"Enter the starting node from {nodes}: \")"
   ]
  },
  {
   "cell_type": "markdown",
   "metadata": {
    "id": "xsfOP81lF7sP"
   },
   "source": [
    "### 4.\tCalling the search algorithms\n",
    "(For bidirectional search in below sections first part can be used as per Hint provided. Under second section other combinations as per Hint or your choice of 2 algorithms can be called .As an analyst suggest suitable approximation in the comparitive analysis section)"
   ]
  },
  {
   "cell_type": "code",
   "execution_count": 23,
   "metadata": {
    "id": "Og5zI9thF7sP"
   },
   "outputs": [
    {
     "name": "stdout",
     "output_type": "stream",
     "text": [
      "Optimal Path: Kiev -> Kharkiv -> Odessa -> Dnipro -> Kherson -> Lviv -> Mariupol -> Lviv -> Mikolaive -> Kiev\n",
      "Optimal Cost: 94\n"
     ]
    }
   ],
   "source": [
    "#Invoke algorithm 1 (Should Print the solution, path, cost etc., (As mentioned in the problem))\n",
    "if start_node not in nodes:\n",
    "    print(\"Invalid starting node.\")\n",
    "else:\n",
    "    start_index = nodes.index(start_node)\n",
    "    visit_count = [0] * len(graph)\n",
    "    visit_count[start_index] = 1\n",
    "\n",
    "    # Measure execution time\n",
    "    start_time_hill_climb = time.time()\n",
    "    optimal_path, optimal_cost, max_depth_hill_climb = hill_climb(graph, [start_index], 0, float('inf'), visit_count)\n",
    "    end_time_hill_climb = time.time()\n",
    "    execution_time_hill_climb = end_time_hill_climb - start_time_hill_climb\n",
    "\n",
    "    # Compute space complexity\n",
    "    space_complexity_hill_climb = sys.getsizeof(graph) + sys.getsizeof(visit_count) + sys.getsizeof(optimal_path)\n",
    "\n",
    "    # Display results\n",
    "    if optimal_path:\n",
    "        # Remove consecutive duplicates from the path\n",
    "        filtered_path = [optimal_path[0]]\n",
    "        for node in optimal_path[1:]:\n",
    "            if node != filtered_path[-1]:\n",
    "                filtered_path.append(node)\n",
    "\n",
    "        optimal_path_names = [nodes[i] for i in filtered_path]\n",
    "        print(\"Optimal Path:\", \" -> \".join(optimal_path_names))\n",
    "        print(\"Optimal Cost:\", optimal_cost)\n",
    "    else:\n",
    "        print(\"No valid path found.\")"
   ]
  },
  {
   "cell_type": "code",
   "execution_count": 28,
   "metadata": {
    "id": "u3MJeA6eF7sP"
   },
   "outputs": [
    {
     "name": "stdout",
     "output_type": "stream",
     "text": [
      "Optimal Path: Kiev -> Kharkiv -> Odessa -> Dnipro -> Kherson -> Lviv -> Mariupol -> Lviv -> Mikolaive -> Kiev\n",
      "Optimal Cost: 94\n"
     ]
    }
   ],
   "source": [
    "#Invoke algorithm 2 (Should Print the solution, path, cost etc., (As mentioned in the problem))\n",
    "if start_node not in nodes:\n",
    "    print(\"Invalid starting node.\")\n",
    "else:\n",
    "    start_index = nodes.index(start_node)\n",
    "    visit_count = [0] * len(graph)\n",
    "    visit_count[start_index] = 1\n",
    "\n",
    "    # Measure execution time\n",
    "    start_time_rbfs = time.time()\n",
    "    optimal_path, optimal_cost, max_depth_rbfs = rbfs(graph, [start_index], 0, float('inf'), visit_count)\n",
    "    end_time_rbfs = time.time()\n",
    "    execution_time_rbfs = end_time_rbfs - start_time_rbfs\n",
    "\n",
    "    # Compute space complexity\n",
    "    space_complexity_rbfs = sys.getsizeof(graph) + sys.getsizeof(visit_count) + sys.getsizeof(optimal_path)\n",
    "\n",
    "    # Display results\n",
    "    if optimal_path:\n",
    "        # Remove consecutive duplicates from the path\n",
    "        filtered_path = [optimal_path[0]]\n",
    "        for node in optimal_path[1:]:\n",
    "            if node != filtered_path[-1]:\n",
    "                filtered_path.append(node)\n",
    "\n",
    "        optimal_path_names = [nodes[i] for i in filtered_path]\n",
    "        print(\"Optimal Path:\", \" -> \".join(optimal_path_names))\n",
    "        print(\"Optimal Cost:\", optimal_cost)\n",
    "    else:\n",
    "        print(\"No valid path found.\")"
   ]
  },
  {
   "cell_type": "markdown",
   "metadata": {
    "id": "TOU3Rem6F7sQ"
   },
   "source": [
    "### 5.\tComparitive Analysis (Time and Space Complexity)"
   ]
  },
  {
   "cell_type": "code",
   "execution_count": 24,
   "metadata": {
    "id": "HG6fWwiIF7sQ"
   },
   "outputs": [
    {
     "name": "stdout",
     "output_type": "stream",
     "text": [
      "Execution Time Hill Climb Algorithm: 0.121484 seconds\n",
      "Space Used Hill Climb Algorithm: 416 bytes\n",
      "Time Complexity of Hill Climb Algorithm: O(b^d), where b is branching factor and d is depth = 15\n",
      "Space Complexity of Hill Climb Algorithm: O(b*d), where b is branching factor and d is depth = 15\n"
     ]
    }
   ],
   "source": [
    "#Code Block : Print the Time & Space complexity of Hill Climb Algorithm\n",
    "print(f\"Execution Time Hill Climb Algorithm: {execution_time_hill_climb:.6f} seconds\")\n",
    "print(f\"Space Used Hill Climb Algorithm: {space_complexity_hill_climb} bytes\")\n",
    "print(f\"Time Complexity of Hill Climb Algorithm: O(b^d), where b is branching factor and d is depth = {max_depth_hill_climb}\")\n",
    "print(f\"Space Complexity of Hill Climb Algorithm: O(b*d), where b is branching factor and d is depth = {max_depth_hill_climb}\")"
   ]
  },
  {
   "cell_type": "code",
   "execution_count": 29,
   "metadata": {
    "id": "xMButLKCF7sQ"
   },
   "outputs": [
    {
     "name": "stdout",
     "output_type": "stream",
     "text": [
      "Execution Time RBFS Algorithm: 0.163297 seconds\n",
      "Space Used RBFS Algorithm: 416 bytes\n",
      "Time Complexity of RBFS Algorithm: O(b^d), where b is branching factor and d is depth = 15\n",
      "Space Complexity of RBFS Climb Algorithm: O(b*d), where b is branching factor and d is depth = 15\n"
     ]
    }
   ],
   "source": [
    "#Code Block : Print the Time & Space complexity of Recursive Best First Search Algorithm\n",
    "print(f\"Execution Time RBFS Algorithm: {execution_time_rbfs:.6f} seconds\")\n",
    "print(f\"Space Used RBFS Algorithm: {space_complexity_rbfs} bytes\")\n",
    "print(f\"Time Complexity of RBFS Algorithm: O(b^d), where b is branching factor and d is depth = {max_depth_rbfs}\")\n",
    "print(f\"Space Complexity of RBFS Climb Algorithm: O(b*d), where b is branching factor and d is depth = {max_depth_rbfs}\")"
   ]
  },
  {
   "cell_type": "markdown",
   "metadata": {
    "id": "y2nXwAlsF7sQ"
   },
   "source": [
    "### 6.\tProvide your comparitive analysis or findings in no more than 3 lines in below section"
   ]
  },
  {
   "cell_type": "markdown",
   "metadata": {
    "id": "si483-zoF7sQ"
   },
   "source": [
    "**Comparison :** \n",
    "\n",
    "**Execution Time**\n",
    "Hill Climbing executed in 0.121484 seconds, whereas RBFS took 0.163297 seconds.\n",
    "Hill Climbing is slightly faster than RBFS in this scenario.\n",
    "\n",
    "**Space Complexity**\n",
    "Both algorithms used 416 bytes for memory storage.\n",
    "The estimated space complexity for both is O(b * d), where b is the branching factor and d is the recursion depth.\n",
    "\n",
    "**Time Complexity**\n",
    "Both algorithms have a time complexity of O(b^d).\n",
    "This indicates that both methods scale exponentially with increasing depth.\n",
    "\n",
    "**Conclusion**\n",
    "Hill Climbing is faster but may get stuck in local optima.\n",
    "RBFS is slightly slower but performs better for more complex problems.\n",
    "Hill Climbing is better for simpler search spaces, while RBFS is better for optimal pathfinding."
   ]
  }
 ],
 "metadata": {
  "colab": {
   "provenance": []
  },
  "kernelspec": {
   "display_name": "Python 3 (ipykernel)",
   "language": "python",
   "name": "python3"
  },
  "language_info": {
   "codemirror_mode": {
    "name": "ipython",
    "version": 3
   },
   "file_extension": ".py",
   "mimetype": "text/x-python",
   "name": "python",
   "nbconvert_exporter": "python",
   "pygments_lexer": "ipython3",
   "version": "3.9.20"
  }
 },
 "nbformat": 4,
 "nbformat_minor": 4
}
